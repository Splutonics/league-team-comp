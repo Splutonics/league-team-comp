{
 "cells": [
  {
   "cell_type": "code",
   "execution_count": null,
   "metadata": {},
   "outputs": [],
   "source": [
    "from sklearn.feature_extraction.text import CountVectorizer\n",
    "\n",
    "# TODO load champion skill descriptions\n",
    "skill_descriptions = None\n",
    "\n",
    "#lowercases words, removes punctuation, splits strings,\n",
    "count_vector = CountVectorizer(stop_words='english')\n",
    "\n",
    "#shows all parameters set\n",
    "print(count_vector)\n",
    "\n",
    "count_vector.fit(skill_descriptions)\n",
    "count_vector.get_feature_names()"
   ]
  }
 ],
 "metadata": {
  "kernelspec": {
   "display_name": "Python 3.9.13 64-bit (microsoft store)",
   "language": "python",
   "name": "python3"
  },
  "language_info": {
   "name": "python",
   "version": "3.9.13"
  },
  "orig_nbformat": 4,
  "vscode": {
   "interpreter": {
    "hash": "a414e810bd260a239dc15b38f32bdbd88fe5c47311deb61c4f91af6a1037ecbb"
   }
  }
 },
 "nbformat": 4,
 "nbformat_minor": 2
}
